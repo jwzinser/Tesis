{
 "cells": [
  {
   "cell_type": "code",
   "execution_count": 1,
   "metadata": {},
   "outputs": [],
   "source": [
    "#from dask import dataframe, delayed\n",
    "#from dask.distributed import Client\n",
    "import os\n",
    "import math\n",
    "import pandas as pd\n",
    "import numpy as np\n",
    "#dataset_path = \"/Users/juanzinser/Workspace/Tesis/data/kaggle/insurance/insurance.csv\"\n",
    "dataset_path = \"/Users/juanzinser/Workspace/Tesis/data/kaggle/census/adult.csv\""
   ]
  },
  {
   "cell_type": "code",
   "execution_count": 5,
   "metadata": {},
   "outputs": [
    {
     "name": "stdout",
     "output_type": "stream",
     "text": [
      "['sex', 'workclass', 'relationship', 'education', 'marital.status', 'race', 'native.country', 'occupation']\n"
     ]
    }
   ],
   "source": [
    "data = pd.read_csv(dataset_path)\n",
    "data_cols = data.columns\n",
    "y_col = \"income\"\n",
    "#data_y = data[y_col].compute()\n",
    "data_y = data[y_col]\n",
    "# print(len(data))\n",
    "# selects categorical data\n",
    "cat_columns = list(set(data.select_dtypes([\"bool_\", \"object_\",\"flexible\"],[\"number\"]).columns).difference({y_col}))\n",
    "print(cat_columns)\n",
    "std_cols = list(set(data.select_dtypes([\"number\"]).columns).difference({y_col}))\n"
   ]
  },
  {
   "cell_type": "code",
   "execution_count": 10,
   "metadata": {},
   "outputs": [
    {
     "name": "stdout",
     "output_type": "stream",
     "text": [
      "['sex', 'workclass', 'relationship', 'education', 'marital.status', 'race', 'age_dis', 'native.country', 'occupation']\n"
     ]
    }
   ],
   "source": [
    "data[\"age_dis\"] = pd.cut(data[\"age\"], bins=4, labels=False).map(str)\n",
    "cat_columns = list(set(data.select_dtypes([\"bool_\", \"object_\",\"flexible\"],[\"number\"]).columns).difference({y_col}))\n",
    "print(cat_columns)\n"
   ]
  },
  {
   "cell_type": "code",
   "execution_count": null,
   "metadata": {},
   "outputs": [],
   "source": []
  }
 ],
 "metadata": {
  "kernelspec": {
   "display_name": "Python 3",
   "language": "python",
   "name": "python3"
  },
  "language_info": {
   "codemirror_mode": {
    "name": "ipython",
    "version": 3
   },
   "file_extension": ".py",
   "mimetype": "text/x-python",
   "name": "python",
   "nbconvert_exporter": "python",
   "pygments_lexer": "ipython3",
   "version": "3.5.4"
  }
 },
 "nbformat": 4,
 "nbformat_minor": 2
}
