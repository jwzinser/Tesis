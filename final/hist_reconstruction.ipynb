{
 "cells": [
  {
   "cell_type": "markdown",
   "metadata": {},
   "source": [
    "## Reconstruction histograms"
   ]
  },
  {
   "cell_type": "code",
   "execution_count": 1,
   "metadata": {},
   "outputs": [
    {
     "data": {
      "text/html": [
       "<div>\n",
       "<style scoped>\n",
       "    .dataframe tbody tr th:only-of-type {\n",
       "        vertical-align: middle;\n",
       "    }\n",
       "\n",
       "    .dataframe tbody tr th {\n",
       "        vertical-align: top;\n",
       "    }\n",
       "\n",
       "    .dataframe thead th {\n",
       "        text-align: right;\n",
       "    }\n",
       "</style>\n",
       "<table border=\"1\" class=\"dataframe\">\n",
       "  <thead>\n",
       "    <tr style=\"text-align: right;\">\n",
       "      <th></th>\n",
       "      <th>Unnamed: 0</th>\n",
       "      <th>class</th>\n",
       "      <th>CIS</th>\n",
       "      <th>NIS</th>\n",
       "      <th>column</th>\n",
       "      <th>case</th>\n",
       "    </tr>\n",
       "  </thead>\n",
       "  <tbody>\n",
       "    <tr>\n",
       "      <th>0</th>\n",
       "      <td>0</td>\n",
       "      <td>State-gov</td>\n",
       "      <td>1298</td>\n",
       "      <td>5223.0</td>\n",
       "      <td>workclass</td>\n",
       "      <td>1ftt</td>\n",
       "    </tr>\n",
       "    <tr>\n",
       "      <th>1</th>\n",
       "      <td>1</td>\n",
       "      <td>Without-pay</td>\n",
       "      <td>14</td>\n",
       "      <td>4132.0</td>\n",
       "      <td>workclass</td>\n",
       "      <td>1ftt</td>\n",
       "    </tr>\n",
       "    <tr>\n",
       "      <th>2</th>\n",
       "      <td>2</td>\n",
       "      <td>?</td>\n",
       "      <td>1836</td>\n",
       "      <td>5723.0</td>\n",
       "      <td>workclass</td>\n",
       "      <td>1ftt</td>\n",
       "    </tr>\n",
       "    <tr>\n",
       "      <th>3</th>\n",
       "      <td>3</td>\n",
       "      <td>Local-gov</td>\n",
       "      <td>2093</td>\n",
       "      <td>5855.0</td>\n",
       "      <td>workclass</td>\n",
       "      <td>1ftt</td>\n",
       "    </tr>\n",
       "    <tr>\n",
       "      <th>4</th>\n",
       "      <td>4</td>\n",
       "      <td>Self-emp-not-inc</td>\n",
       "      <td>2541</td>\n",
       "      <td>6191.0</td>\n",
       "      <td>workclass</td>\n",
       "      <td>1ftt</td>\n",
       "    </tr>\n",
       "  </tbody>\n",
       "</table>\n",
       "</div>"
      ],
      "text/plain": [
       "   Unnamed: 0             class   CIS     NIS     column  case\n",
       "0           0         State-gov  1298  5223.0  workclass  1ftt\n",
       "1           1       Without-pay    14  4132.0  workclass  1ftt\n",
       "2           2                 ?  1836  5723.0  workclass  1ftt\n",
       "3           3         Local-gov  2093  5855.0  workclass  1ftt\n",
       "4           4  Self-emp-not-inc  2541  6191.0  workclass  1ftt"
      ]
     },
     "execution_count": 1,
     "metadata": {},
     "output_type": "execute_result"
    }
   ],
   "source": [
    "import pandas as pn\n",
    "\n",
    "reco_df = pn.read_csv(\"supervised_rmse_df.csv\")\n",
    "reco_df.head()"
   ]
  },
  {
   "cell_type": "code",
   "execution_count": 8,
   "metadata": {},
   "outputs": [
    {
     "data": {
      "text/html": [
       "<div>\n",
       "<style scoped>\n",
       "    .dataframe tbody tr th:only-of-type {\n",
       "        vertical-align: middle;\n",
       "    }\n",
       "\n",
       "    .dataframe tbody tr th {\n",
       "        vertical-align: top;\n",
       "    }\n",
       "\n",
       "    .dataframe thead th {\n",
       "        text-align: right;\n",
       "    }\n",
       "</style>\n",
       "<table border=\"1\" class=\"dataframe\">\n",
       "  <thead>\n",
       "    <tr style=\"text-align: right;\">\n",
       "      <th></th>\n",
       "      <th>Unnamed: 0</th>\n",
       "      <th>class</th>\n",
       "      <th>CIS</th>\n",
       "      <th>NIS</th>\n",
       "      <th>column</th>\n",
       "      <th>case</th>\n",
       "    </tr>\n",
       "  </thead>\n",
       "  <tbody>\n",
       "    <tr>\n",
       "      <th>0</th>\n",
       "      <td>0</td>\n",
       "      <td>State-gov</td>\n",
       "      <td>1298</td>\n",
       "      <td>5223.0</td>\n",
       "      <td>workclass</td>\n",
       "      <td>1ftt</td>\n",
       "    </tr>\n",
       "    <tr>\n",
       "      <th>96</th>\n",
       "      <td>0</td>\n",
       "      <td>State-gov</td>\n",
       "      <td>1298</td>\n",
       "      <td>0.0</td>\n",
       "      <td>workclass</td>\n",
       "      <td>1ttt</td>\n",
       "    </tr>\n",
       "    <tr>\n",
       "      <th>192</th>\n",
       "      <td>0</td>\n",
       "      <td>State-gov</td>\n",
       "      <td>1298</td>\n",
       "      <td>4549.0</td>\n",
       "      <td>workclass</td>\n",
       "      <td>1mtt</td>\n",
       "    </tr>\n",
       "    <tr>\n",
       "      <th>288</th>\n",
       "      <td>0</td>\n",
       "      <td>State-gov</td>\n",
       "      <td>1298</td>\n",
       "      <td>0.0</td>\n",
       "      <td>workclass</td>\n",
       "      <td>1tffNone</td>\n",
       "    </tr>\n",
       "    <tr>\n",
       "      <th>384</th>\n",
       "      <td>0</td>\n",
       "      <td>State-gov</td>\n",
       "      <td>1298</td>\n",
       "      <td>4691.0</td>\n",
       "      <td>workclass</td>\n",
       "      <td>1fff</td>\n",
       "    </tr>\n",
       "  </tbody>\n",
       "</table>\n",
       "</div>"
      ],
      "text/plain": [
       "     Unnamed: 0      class   CIS     NIS     column      case\n",
       "0             0  State-gov  1298  5223.0  workclass      1ftt\n",
       "96            0  State-gov  1298     0.0  workclass      1ttt\n",
       "192           0  State-gov  1298  4549.0  workclass      1mtt\n",
       "288           0  State-gov  1298     0.0  workclass  1tffNone\n",
       "384           0  State-gov  1298  4691.0  workclass      1fff"
      ]
     },
     "execution_count": 8,
     "metadata": {},
     "output_type": "execute_result"
    }
   ],
   "source": [
    "reco_df[reco_df[\"class\"] == 'State-gov'].head()"
   ]
  },
  {
   "cell_type": "code",
   "execution_count": 31,
   "metadata": {},
   "outputs": [
    {
     "name": "stdout",
     "output_type": "stream",
     "text": [
      "(5760, 4)\n",
      "5856\n"
     ]
    },
    {
     "name": "stderr",
     "output_type": "stream",
     "text": [
      "/Users/juanzinser/Workspace/Tesis/venv/lib/python3.6/site-packages/ipykernel_launcher.py:2: SettingWithCopyWarning: \n",
      "A value is trying to be set on a copy of a slice from a DataFrame\n",
      "\n",
      "See the caveats in the documentation: http://pandas.pydata.org/pandas-docs/stable/indexing.html#indexing-view-versus-copy\n",
      "  \n",
      "/Users/juanzinser/Workspace/Tesis/venv/lib/python3.6/site-packages/pandas/core/indexing.py:357: SettingWithCopyWarning: \n",
      "A value is trying to be set on a copy of a slice from a DataFrame.\n",
      "Try using .loc[row_indexer,col_indexer] = value instead\n",
      "\n",
      "See the caveats in the documentation: http://pandas.pydata.org/pandas-docs/stable/indexing.html#indexing-view-versus-copy\n",
      "  self.obj[key] = _infer_fill_value(value)\n",
      "/Users/juanzinser/Workspace/Tesis/venv/lib/python3.6/site-packages/pandas/core/indexing.py:537: SettingWithCopyWarning: \n",
      "A value is trying to be set on a copy of a slice from a DataFrame.\n",
      "Try using .loc[row_indexer,col_indexer] = value instead\n",
      "\n",
      "See the caveats in the documentation: http://pandas.pydata.org/pandas-docs/stable/indexing.html#indexing-view-versus-copy\n",
      "  self.obj[item] = s\n"
     ]
    },
    {
     "data": {
      "text/plain": [
       "(5856, 4)"
      ]
     },
     "execution_count": 31,
     "metadata": {},
     "output_type": "execute_result"
    }
   ],
   "source": [
    "real_cis = reco_df[[\"class\", \"column\",\"CIS\"]]\n",
    "real_cis.drop_duplicates(inplace=True)\n",
    "real_cis.loc[:,\"case\"] = \"real\" \n",
    "real_cis = real_cis.rename(columns={\"CIS\":\"count\"})\n",
    "real_cis.shape\n",
    "\n",
    "reco_dff = reco_df[[\"class\",\"column\",\"case\",\"NIS\"]].rename(columns={\"NIS\":\"count\"})\n",
    "print(reco_dff.shape)\n",
    "print(reco_dff.shape[0] + real_cis.shape[0])\n",
    "\n",
    "reco_dff.head()\n",
    "\n",
    "reco_count = reco_dff.merge(real_cis, how=\"outer\", on=[\"class\",\"column\",\"case\",\"count\"])\n",
    "reco_count.shape"
   ]
  },
  {
   "cell_type": "code",
   "execution_count": 71,
   "metadata": {},
   "outputs": [],
   "source": [
    "import re\n",
    "def get_splitted_case(df):\n",
    "    df[\"privacy\"] = df[\"case\"].map(lambda x: re.findall(\"\\d+\", x)[0] if x!=\"real\" else x)\n",
    "    df[\"real\"] = df[\"case\"].map(lambda x: re.findall(\"[^\\d]\",x)[0] if x!=\"real\" else x)\n",
    "    df[\"uniform\"] = df[\"case\"].map(lambda x: int(re.findall(\"[^\\d]\",x)[1] == \"t\") if x!=\"real\" else x)\n",
    "    df[\"uniform2\"] = df[\"case\"].map(lambda x: int(re.findall(\"[^\\d]\",x)[2] == \"t\") if x!=\"real\" else x)\n",
    "    return df\n",
    "\n",
    "reco_df = get_splitted_case(reco_df)\n",
    "reco_count = get_splitted_case(reco_count)"
   ]
  },
  {
   "cell_type": "code",
   "execution_count": null,
   "metadata": {},
   "outputs": [],
   "source": [
    "import numpy as np\n",
    "from basic_units import cm, inch\n",
    "import matplotlib.pyplot as plt\n",
    "\n",
    "for pr in reco_df.privacy.unique():\n",
    "    gb = reco_df[reco_df.privacy==pr][reco_df.column==\"education\"].groupby([\"real\", \"class\"])[\"NIS\",\"CIS\"].mean().reset_index()\n",
    "\n",
    "    N = len(gb[\"class\"].unique())\n",
    "\n",
    "    real_list = list()\n",
    "    real_order = list()\n",
    "    fig, ax = plt.subplots()\n",
    "    width_delta = 0.15         # the width of the bars\n",
    "    ind = np.arange(N)    # the x locations for the groups\n",
    "    real_colors = {\"real\":\"k\",\"t\":\"m\",\"f\":\"g\",\"m\":\"b\"}\n",
    "    class_order = gb[gb[\"real\"]==\"t\"].sort_values(by=\"class\", ascending=True)[\"class\"].values\n",
    "    width = 0 \n",
    "    for real_level in np.append(gb[\"real\"].unique(),\"real\"):\n",
    "        if real_level != \"real\":\n",
    "            cur_values = gb[gb[\"real\"]==real_level].sort_values(by=\"class\", ascending=True)[\"NIS\"].values\n",
    "        else:\n",
    "            cur_values = gb[gb[\"real\"]==\"t\"].sort_values(by=\"class\", ascending=True)[\"CIS\"].values\n",
    "\n",
    "        cur_p = ax.bar(ind + width, cur_values, width_delta, color=real_colors[real_level], bottom=0*cm)\n",
    "        real_list.append(cur_p)\n",
    "        real_order.append(real_level)\n",
    "        width += width_delta\n",
    "\n",
    "    ax.set_title('Counts by class and \"if real\" for Privacy {pr}'.format(pr=pr))\n",
    "    ax.set_xticks(ind + width / 2)\n",
    "    ax.set_ylabel(\"Number Instances\")\n",
    "    ax.set_xticklabels(class_order, rotation = 45, ha=\"right\")\n",
    "    ax.legend((p[0] for p in real_list), tuple(real_order))\n",
    "    ax.yaxis.set_units(inch)\n",
    "    ax.autoscale_view()\n",
    "    plt.savefig(\"/Users/juanzinser/Documents/plots/reconstruction_{pr}\".format(pr=pr))\n",
    "    plt.show()"
   ]
  }
 ],
 "metadata": {
  "kernelspec": {
   "display_name": "Python 3",
   "language": "python",
   "name": "python3"
  },
  "language_info": {
   "codemirror_mode": {
    "name": "ipython",
    "version": 3
   },
   "file_extension": ".py",
   "mimetype": "text/x-python",
   "name": "python",
   "nbconvert_exporter": "python",
   "pygments_lexer": "ipython3",
   "version": "3.6.2"
  }
 },
 "nbformat": 4,
 "nbformat_minor": 2
}
