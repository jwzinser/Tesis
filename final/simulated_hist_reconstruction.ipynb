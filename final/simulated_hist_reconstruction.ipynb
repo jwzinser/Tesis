{
 "cells": [
  {
   "cell_type": "code",
   "execution_count": null,
   "metadata": {},
   "outputs": [],
   "source": [
    "import pandas as pn\n",
    "reco_df = pn.read_csv(\"supervised_rmse_df.csv\")\n",
    "reco_df.head()"
   ]
  },
  {
   "cell_type": "code",
   "execution_count": null,
   "metadata": {},
   "outputs": [],
   "source": [
    "real_cis = reco_df[[\"class\", \"column\",\"CIS\"]]\n",
    "real_cis.drop_duplicates(inplace=True)\n",
    "real_cis.loc[:,\"case\"] = \"real\" \n",
    "real_cis = real_cis.rename(columns={\"CIS\":\"count\"})\n",
    "real_cis.shape\n",
    "\n",
    "reco_dff = reco_df[[\"class\",\"column\",\"case\",\"NIS\"]].rename(columns={\"NIS\":\"count\"})\n",
    "print(reco_dff.shape)\n",
    "print(reco_dff.shape[0] + real_cis.shape[0])\n",
    "\n",
    "reco_dff.head()\n",
    "\n",
    "reco_count = reco_dff.merge(real_cis, how=\"outer\", on=[\"class\",\"column\",\"case\",\"count\"])\n",
    "reco_count.shape\n",
    "\n",
    "import re\n",
    "def get_splitted_case(df):\n",
    "    df[\"privacy\"] = df[\"case\"].map(lambda x: re.findall(\"\\d+\", x)[0] if x!=\"real\" else x)\n",
    "    df[\"real\"] = df[\"case\"].map(lambda x: re.findall(\"[^\\d]\",x)[0] if x!=\"real\" else x)\n",
    "    df[\"uniform\"] = df[\"case\"].map(lambda x: int(re.findall(\"[^\\d]\",x)[1] == \"t\") if x!=\"real\" else x)\n",
    "    df[\"uniform2\"] = df[\"case\"].map(lambda x: int(re.findall(\"[^\\d]\",x)[2] == \"t\") if x!=\"real\" else x)\n",
    "    return df\n",
    "\n",
    "reco_df = get_splitted_case(reco_df)\n",
    "reco_count = get_splitted_case(reco_count)"
   ]
  },
  {
   "cell_type": "code",
   "execution_count": 37,
   "metadata": {},
   "outputs": [],
   "source": [
    "import multiprocessing\n",
    "from sanitization_tools import *\n",
    "import math\n",
    "column_size=10\n",
    "\n",
    "n=0\n",
    "processed_cases = list()\n",
    "reco_df = pn.DataFrame(columns=[\"case\", \"class\", \"CIS\", \"NIS\"])\n",
    "rmse_by_case = dict()\n",
    "\n",
    "case = [6, 3, \"exponential\", False, True, True, None, False]\n",
    "case_name = str(case[0])+(\"m\" if case[7] else (\"t\" if case[3] else \"f\")) + (\"t\" if case[4] else \"f\") + \\\n",
    "            (\"t\" if case[5] else \"f\") #+ (str(case[6]) if (case[3] and not case[4]) else \"\")\n",
    "case_name += '_' + str(case[1]) + '_' + str(case[2])\n",
    "nclasses = case[1]\n",
    "class_dist = case[2]\n",
    "p = [1./nclasses]*nclasses if class_dist == 'uniform' else expo_weights(nclasses)\n",
    "sim_data = np.random.choice(range(nclasses), column_size, p=p)\n",
    "cis = pn.DataFrame.from_dict(Counter(sim_data), \"index\").reset_index()\n",
    "cis.columns = [\"class\", \"CIS\"]\n",
    "case2 = case\n",
    "case2.pop(1)\n",
    "case2.pop(1)\n",
    "rel_privacy = math.ceil(float(case[0])/10*nclasses)\n",
    "case2[0] = rel_privacy\n",
    "field_dict = operator_model(sim_data, *case2)\n",
    "nis = pn.DataFrame.from_dict(field_dict).sum(axis=0).reset_index()\n",
    "nis.columns = [\"class\", \"NIS\"]\n",
    "tmp_df = cis.merge(nis, how=\"left\")\n",
    "tmp_df['RMSE'] = (tmp_df['CIS'] - tmp_df['NIS']).map(lambda x: x*x)\n",
    "tmp_df['CHI'] = (tmp_df['RMSE']/tmp_df['CIS'].map(lambda x: x if x>0.0 else np.nan))\n",
    "rmse_one = math.sqrt(sum(tmp_df['RMSE'].values))\n",
    "chi_one = np.nansum(tmp_df['CHI'].values)"
   ]
  },
  {
   "cell_type": "code",
   "execution_count": 77,
   "metadata": {},
   "outputs": [
    {
     "name": "stdout",
     "output_type": "stream",
     "text": [
      "\\begin{tabular}{lrrr}\n",
      "\\toprule\n",
      "{} &    0 &    1 &    2 \\\\\n",
      "\\midrule\n",
      "\\textbf{0    } &  0.0 &  1.0 &  0.0 \\\\\n",
      "\\textbf{1    } &  1.0 &  0.0 &  0.0 \\\\\n",
      "\\textbf{2    } &  1.0 &  0.0 &  0.0 \\\\\n",
      "\\textbf{3    } &  0.0 &  0.0 &  1.0 \\\\\n",
      "\\textbf{4    } &  1.0 &  0.0 &  0.0 \\\\\n",
      "\\textbf{5    } &  0.0 &  1.0 &  0.0 \\\\\n",
      "\\textbf{6    } &  1.0 &  0.0 &  0.0 \\\\\n",
      "\\textbf{7    } &  1.0 &  0.0 &  0.0 \\\\\n",
      "\\textbf{8    } &  1.0 &  0.0 &  0.0 \\\\\n",
      "\\textbf{9    } &  1.0 &  0.0 &  0.0 \\\\\n",
      "\\textbf{total} &  7.0 &  2.0 &  1.0 \\\\\n",
      "\\bottomrule\n",
      "\\end{tabular}\n",
      "\n",
      "\\begin{tabular}{lrrr}\n",
      "\\toprule\n",
      "{} &    0 &    1 &    2 \\\\\n",
      "\\midrule\n",
      "\\textbf{0    } &  0.5 &  0.0 &  0.5 \\\\\n",
      "\\textbf{1    } &  0.0 &  0.5 &  0.5 \\\\\n",
      "\\textbf{2    } &  0.0 &  0.5 &  0.5 \\\\\n",
      "\\textbf{3    } &  0.5 &  0.5 &  0.0 \\\\\n",
      "\\textbf{4    } &  0.0 &  0.5 &  0.5 \\\\\n",
      "\\textbf{5    } &  0.5 &  0.0 &  0.5 \\\\\n",
      "\\textbf{6    } &  0.0 &  0.5 &  0.5 \\\\\n",
      "\\textbf{7    } &  0.0 &  0.5 &  0.5 \\\\\n",
      "\\textbf{8    } &  0.0 &  0.5 &  0.5 \\\\\n",
      "\\textbf{9    } &  0.0 &  0.5 &  0.5 \\\\\n",
      "\\textbf{total} &  1.5 &  4.0 &  4.5 \\\\\n",
      "\\bottomrule\n",
      "\\end{tabular}\n",
      "\n"
     ]
    }
   ],
   "source": [
    "# imprimir las tablas sumadas\n",
    "#original\n",
    "cis_df = pn.get_dummies(sim_data)\n",
    "cis_df.loc[\"total\"] = list(cis_df.sum(axis=0).values)\n",
    "cis_df = cis_df.astype(float)\n",
    "print(cis_df.to_latex())\n",
    "# sanitizada\n",
    "nis_df = pn.DataFrame.from_dict(field_dict)\n",
    "nis_df.loc[\"total\"] = list(nis_df.sum(axis=0).values)\n",
    "nis_df\n",
    "print(nis_df.to_latex())\n",
    "\n"
   ]
  },
  {
   "cell_type": "code",
   "execution_count": 76,
   "metadata": {},
   "outputs": [
    {
     "data": {
      "image/png": "[encoded data removed]",
      "text/plain": [
       "<matplotlib.figure.Figure at 0x109024128>"
      ]
     },
     "metadata": {},
     "output_type": "display_data"
    }
   ],
   "source": [
    "import numpy as np\n",
    "from basic_units import cm, inch\n",
    "import matplotlib.pyplot as plt\n",
    "\n",
    "pr=3\n",
    "N = len(tmp_df[\"class\"].unique())\n",
    "real_list = list()\n",
    "real_order = list()\n",
    "fig, ax = plt.subplots()\n",
    "width_delta = 0.35         # the width of the bars\n",
    "ind = np.arange(N)    # the x locations for the groups\n",
    "real_colors = {\"NIS\":\"b\",\"CIS\":\"r\",\"f\":\"g\",\"m\":\"b\"}\n",
    "class_order = tmp_df.sort_values(by=\"class\", ascending=True)[\"class\"].values\n",
    "width = 0 \n",
    "\n",
    "cur_values = tmp_df.sort_values(by=\"class\", ascending=True)[\"CIS\"].values\n",
    "cur_p = ax.bar(ind + width, cur_values, width_delta, color=real_colors[\"CIS\"], bottom=0*cm)\n",
    "real_list.append(cur_p)\n",
    "real_order.append(\"CIS\")\n",
    "width += width_delta\n",
    "cur_values = tmp_df.sort_values(by=\"class\", ascending=True)[\"NIS\"].values\n",
    "cur_p = ax.bar(ind + width, cur_values, width_delta, color=real_colors[\"NIS\"], bottom=0*cm)\n",
    "real_list.append(cur_p)\n",
    "real_order.append(\"NIS\")\n",
    "width += width_delta\n",
    "\n",
    "ax.set_title('Histogram Reconstruction Example'.format(pr=pr))\n",
    "ax.set_xticks(ind + width / 2)\n",
    "ax.set_ylabel(\"Number Instances\")\n",
    "ax.set_xticklabels(class_order, rotation = 45, ha=\"right\")\n",
    "ax.legend((p[0] for p in real_list), tuple(real_order))\n",
    "ax.yaxis.set_units(inch)\n",
    "ax.autoscale_view()\n",
    "plt.savefig(\"/Users/juanzinser/Documents/plots/reconstruction_simulated_example\".format(pr=pr))\n",
    "plt.show()"
   ]
  }
 ],
 "metadata": {
  "kernelspec": {
   "display_name": "Python 3",
   "language": "python",
   "name": "python3"
  },
  "language_info": {
   "codemirror_mode": {
    "name": "ipython",
    "version": 3
   },
   "file_extension": ".py",
   "mimetype": "text/x-python",
   "name": "python",
   "nbconvert_exporter": "python",
   "pygments_lexer": "ipython3",
   "version": "3.6.2"
  }
 },
 "nbformat": 4,
 "nbformat_minor": 2
}
