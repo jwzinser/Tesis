{
 "cells": [
  {
   "cell_type": "code",
   "execution_count": 1,
   "metadata": {},
   "outputs": [],
   "source": [
    "import pandas as pn\n",
    "import matplotlib.pyplot as plt\n",
    "import re\n",
    "import numpy as np"
   ]
  },
  {
   "cell_type": "code",
   "execution_count": 2,
   "metadata": {},
   "outputs": [],
   "source": [
    "from sanitization_tools import *\n",
    "import math\n",
    "income_dataset_path = \"census_level_0.csv\"\n",
    "model_dict = dict()\n",
    "model_dict[\"linear_regression\"] = linear_model.LinearRegression()\n",
    "model_dict[\"svm\"] = svm.SVC(gamma=0.001, C=100.)\n",
    "model_dict[\"naive_bayes\"] = naive_bayes.GaussianNB()\n",
    "model_dict[\"tree\"] = tree.DecisionTreeRegressor()\n",
    "cases = list()\n",
    "true_prob = None"
   ]
  },
  {
   "cell_type": "code",
   "execution_count": 3,
   "metadata": {},
   "outputs": [],
   "source": [
    "data0 = pn.read_csv(\"../data/census/census_level_0.csv\")\n",
    "data1 = pn.read_csv(\"../data/census/census_level_1.csv\")\n",
    "data2 = pn.read_csv(\"../data/census/census_level_2.csv\")\n",
    "data3 = pn.read_csv(\"../data/census/census_level_3.csv\")"
   ]
  },
  {
   "cell_type": "code",
   "execution_count": 4,
   "metadata": {},
   "outputs": [
    {
     "name": "stdout",
     "output_type": "stream",
     "text": [
      "0\n",
      "1\n",
      "2\n",
      "3\n"
     ]
    }
   ],
   "source": [
    "from sanitization_tools import *\n",
    "import math\n",
    "income_dataset_path = \"census_level_0.csv\"\n",
    "model_dict = dict()\n",
    "model_dict[\"linear_regression\"] = linear_model.LinearRegression()\n",
    "model_dict[\"svm\"] = svm.SVC(gamma=0.001, C=100.)\n",
    "model_dict[\"naive_bayes\"] = naive_bayes.GaussianNB()\n",
    "model_dict[\"tree\"] = tree.DecisionTreeRegressor()\n",
    "\n",
    "case_model_scores = dict()\n",
    "for df, case_name in [(data0, \"0\"), (data1, \"1\"), (data2, \"2\"), (data3,\"3\")]:\n",
    "\n",
    "    data_cols = df.columns\n",
    "    cat_columns = [u'age', u'workclass', u'education', u'marital-status', u'occupation',\n",
    "               u'race', u'sex', u'native-country']\n",
    "    df_model = pn.get_dummies(df[cat_columns])\n",
    "\n",
    "    df_model.loc[:,\"salary-class\"] = df[\"salary-class\"].values\n",
    "    # apply a suppervised algorithm\n",
    "    case_model_scores[case_name] = dict()\n",
    "    print(case_name)\n",
    "    for model_name, model in model_dict.items():\n",
    "        case_model_scores[case_name][model_name] = get_auc_score_of_model(df_model, model)"
   ]
  },
  {
   "cell_type": "code",
   "execution_count": 10,
   "metadata": {},
   "outputs": [],
   "source": [
    "# since the RMSE matters independently of the supervised taggs it is better to analyse the \n",
    "# RMSE in the non supervised case since there is more control of the number of classes.\n",
    "# construct a dataframe from the scores dictionary\n",
    "df_models_scores = pn.DataFrame.from_dict(case_model_scores, orient=\"index\").reset_index().rename(columns={\"index\":\"case\"})\n",
    "df_models_scores = df_models_scores.melt(id_vars=\"case\", value_vars=df_models_scores.columns[1:], value_name=\"models\")\n",
    "\n",
    "df_models_scores[\"error\"] = df_models_scores[\"models\"].map(lambda x: x[0])\n",
    "df_models_scores[\"auc\"] = df_models_scores[\"models\"].map(lambda x: x[1])\n",
    "df_models_scores[\"roc\"] = df_models_scores[\"models\"].map(lambda x: x[2])\n",
    "\n",
    "def all_entries_vector(x):\n",
    "    xs = \"\"\n",
    "    for xi in x:\n",
    "        xs += str(xi) + \",\"\n",
    "    return xs[:-1]\n",
    "    \n",
    "df_models_scores[\"roc_x\"] = df_models_scores[\"roc\"].map(lambda x: all_entries_vector(x[0]))\n",
    "df_models_scores[\"roc_y\"] = df_models_scores[\"roc\"].map(lambda x: all_entries_vector(x[1]))\n",
    "\n",
    "df_models = df_models_scores[[\"case\", \"variable\",\"models\", \"error\", \"auc\",\"roc_x\", \"roc_y\"]]\n",
    "df_models.columns = [[\"case\", \"model\", \"models\", \"error\", \"auc\", \"roc_x\", \"roc_y\"]]\n",
    "df_models.to_csv(\"model_scores_roc_hierarchies.csv\")"
   ]
  },
  {
   "cell_type": "code",
   "execution_count": 1,
   "metadata": {},
   "outputs": [
    {
     "data": {
      "text/plain": [
       "<matplotlib.figure.Figure at 0x7f64e43240b8>"
      ]
     },
     "metadata": {},
     "output_type": "display_data"
    },
    {
     "data": {
      "text/plain": [
       "<matplotlib.figure.Figure at 0x7f64e4324048>"
      ]
     },
     "metadata": {},
     "output_type": "display_data"
    }
   ],
   "source": [
    "from sanitization_tools import *\n",
    "supervised_results = pn.read_csv(\"model_scores_roc_hierarchies.csv\")\n",
    "\n",
    "rocs_by_case(supervised_results, {},{\"case\":[0,1,2,3]}, savefig=True, title=\"by IF REAL\", save_name=\"hierarchies_by_hier_level\",language=\"english\")\n",
    "rocs_by_case(supervised_results, {},{\"model\":list(supervised_results.model.unique())}, savefig=True, title=\"by IF REAL\", save_name=\"hierarchies_by_model\",language=\"english\")\n"
   ]
  },
  {
   "cell_type": "code",
   "execution_count": 4,
   "metadata": {},
   "outputs": [
    {
     "data": {
      "image/png": "[encoded data removed]",
      "text/plain": [
       "<matplotlib.figure.Figure at 0x7f649ebfa828>"
      ]
     },
     "metadata": {},
     "output_type": "display_data"
    },
    {
     "data": {
      "image/png": "[encoded data removed]",
      "text/plain": [
       "<matplotlib.figure.Figure at 0x7f649ec76ac8>"
      ]
     },
     "metadata": {},
     "output_type": "display_data"
    }
   ],
   "source": [
    "plot_bars_single_chunk(df = supervised_results, gb_param = \"case\",yaxis = \"auc\", base_filter = {}, \n",
    "                       lines_cases = {\"case\":list(supervised_results.case.unique())}, savefig=True, title=\"AUC by Hierarchy level\", \n",
    "                       save_name=\"bar_auc_hier_level\", width_delta=.1, language=\"english\")\n",
    "\n",
    "plot_bars_single_chunk(df = supervised_results, gb_param = \"model\",yaxis = \"auc\", base_filter = {}, \n",
    "                       lines_cases = {\"model\":list(supervised_results.model.unique())}, savefig=True, title=\"AUC by Hierarchy level\", \n",
    "                       save_name=\"bar_auc_hier_level\", width_delta=.1, language=\"english\")"
   ]
  },
  {
   "cell_type": "code",
   "execution_count": null,
   "metadata": {},
   "outputs": [],
   "source": []
  }
 ],
 "metadata": {
  "kernelspec": {
   "display_name": "Python 3",
   "language": "python",
   "name": "python3"
  },
  "language_info": {
   "codemirror_mode": {
    "name": "ipython",
    "version": 3
   },
   "file_extension": ".py",
   "mimetype": "text/x-python",
   "name": "python",
   "nbconvert_exporter": "python",
   "pygments_lexer": "ipython3",
   "version": "3.5.2"
  }
 },
 "nbformat": 4,
 "nbformat_minor": 2
}
