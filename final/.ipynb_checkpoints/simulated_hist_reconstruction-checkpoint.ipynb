{
 "cells": [
  {
   "cell_type": "code",
   "execution_count": null,
   "metadata": {},
   "outputs": [],
   "source": [
    "import pandas as pn\n",
    "reco_df = pn.read_csv(\"supervised_rmse_df.csv\")\n",
    "reco_df.head()"
   ]
  },
  {
   "cell_type": "code",
   "execution_count": null,
   "metadata": {},
   "outputs": [],
   "source": [
    "real_cis = reco_df[[\"class\", \"column\",\"CIS\"]]\n",
    "real_cis.drop_duplicates(inplace=True)\n",
    "real_cis.loc[:,\"case\"] = \"real\" \n",
    "real_cis = real_cis.rename(columns={\"CIS\":\"count\"})\n",
    "real_cis.shape\n",
    "\n",
    "reco_dff = reco_df[[\"class\",\"column\",\"case\",\"NIS\"]].rename(columns={\"NIS\":\"count\"})\n",
    "print(reco_dff.shape)\n",
    "print(reco_dff.shape[0] + real_cis.shape[0])\n",
    "\n",
    "reco_dff.head()\n",
    "\n",
    "reco_count = reco_dff.merge(real_cis, how=\"outer\", on=[\"class\",\"column\",\"case\",\"count\"])\n",
    "reco_count.shape\n",
    "\n",
    "import re\n",
    "def get_splitted_case(df):\n",
    "    df[\"privacy\"] = df[\"case\"].map(lambda x: re.findall(\"\\d+\", x)[0] if x!=\"real\" else x)\n",
    "    df[\"real\"] = df[\"case\"].map(lambda x: re.findall(\"[^\\d]\",x)[0] if x!=\"real\" else x)\n",
    "    df[\"uniform\"] = df[\"case\"].map(lambda x: int(re.findall(\"[^\\d]\",x)[1] == \"t\") if x!=\"real\" else x)\n",
    "    df[\"uniform2\"] = df[\"case\"].map(lambda x: int(re.findall(\"[^\\d]\",x)[2] == \"t\") if x!=\"real\" else x)\n",
    "    return df\n",
    "\n",
    "reco_df = get_splitted_case(reco_df)\n",
    "reco_count = get_splitted_case(reco_count)"
   ]
  },
  {
   "cell_type": "code",
   "execution_count": 2,
   "metadata": {},
   "outputs": [
    {
     "name": "stdout",
     "output_type": "stream",
     "text": [
      "exponential\n"
     ]
    }
   ],
   "source": [
    "import multiprocessing\n",
    "from sanitization_tools import *\n",
    "import math\n",
    "column_size=1000\n",
    "nsim_case = 10\n",
    "\n",
    "n=0\n",
    "processed_cases = list()\n",
    "reco_df = pn.DataFrame(columns=[\"case\", \"class\", \"CIS\", \"NIS\"])\n",
    "rmse_by_case = dict()\n",
    "\n",
    "case = [3, 5, \"exponential\", False, True, True, None, False]\n",
    "case_name = str(case[0])+(\"m\" if case[7] else (\"t\" if case[3] else \"f\")) + (\"t\" if case[4] else \"f\") + \\\n",
    "            (\"t\" if case[5] else \"f\") #+ (str(case[6]) if (case[3] and not case[4]) else \"\")\n",
    "case_name += '_' + str(case[1]) + '_' + str(case[2])\n",
    "nclasses = case[1]\n",
    "class_dist = case[2]\n",
    "p = [1./nclasses]*nclasses if class_dist == 'uniform' else expo_weights(nclasses)\n",
    "sim_data = np.random.choice(range(nclasses), column_size, p=p)\n",
    "cis = pn.DataFrame.from_dict(Counter(sim_data), \"index\").reset_index()\n",
    "cis.columns = [\"class\", \"CIS\"]\n",
    "case2 = case\n",
    "case2.pop(1)\n",
    "case2.pop(1)\n",
    "rel_privacy = math.ceil(float(case[0])/10*nclasses)\n",
    "case2[0] = rel_privacy\n",
    "field_dict = operator_model(sim_data, *case2)\n",
    "nis = pn.DataFrame.from_dict(field_dict).sum(axis=0).reset_index()\n",
    "nis.columns = [\"class\", \"NIS\"]\n",
    "tmp_df = cis.merge(nis, how=\"left\")\n",
    "tmp_df['RMSE'] = (tmp_df['CIS'] - tmp_df['NIS']).map(lambda x: x*x)\n",
    "tmp_df['CHI'] = (tmp_df['RMSE']/tmp_df['CIS'].map(lambda x: x if x>0.0 else np.nan))\n",
    "rmse_one = math.sqrt(sum(tmp_df['RMSE'].values))\n",
    "chi_one = np.nansum(tmp_df['CHI'].values)"
   ]
  },
  {
   "cell_type": "code",
   "execution_count": 3,
   "metadata": {},
   "outputs": [
    {
     "data": {
      "text/html": [
       "<div>\n",
       "<style scoped>\n",
       "    .dataframe tbody tr th:only-of-type {\n",
       "        vertical-align: middle;\n",
       "    }\n",
       "\n",
       "    .dataframe tbody tr th {\n",
       "        vertical-align: top;\n",
       "    }\n",
       "\n",
       "    .dataframe thead th {\n",
       "        text-align: right;\n",
       "    }\n",
       "</style>\n",
       "<table border=\"1\" class=\"dataframe\">\n",
       "  <thead>\n",
       "    <tr style=\"text-align: right;\">\n",
       "      <th></th>\n",
       "      <th>class</th>\n",
       "      <th>CIS</th>\n",
       "      <th>NIS</th>\n",
       "      <th>RMSE</th>\n",
       "      <th>CHI</th>\n",
       "    </tr>\n",
       "  </thead>\n",
       "  <tbody>\n",
       "    <tr>\n",
       "      <th>0</th>\n",
       "      <td>1</td>\n",
       "      <td>270</td>\n",
       "      <td>192.5</td>\n",
       "      <td>6006.25</td>\n",
       "      <td>22.245370</td>\n",
       "    </tr>\n",
       "    <tr>\n",
       "      <th>1</th>\n",
       "      <td>4</td>\n",
       "      <td>47</td>\n",
       "      <td>238.0</td>\n",
       "      <td>36481.00</td>\n",
       "      <td>776.191489</td>\n",
       "    </tr>\n",
       "    <tr>\n",
       "      <th>2</th>\n",
       "      <td>0</td>\n",
       "      <td>507</td>\n",
       "      <td>125.0</td>\n",
       "      <td>145924.00</td>\n",
       "      <td>287.818540</td>\n",
       "    </tr>\n",
       "    <tr>\n",
       "      <th>3</th>\n",
       "      <td>3</td>\n",
       "      <td>78</td>\n",
       "      <td>223.0</td>\n",
       "      <td>21025.00</td>\n",
       "      <td>269.551282</td>\n",
       "    </tr>\n",
       "    <tr>\n",
       "      <th>4</th>\n",
       "      <td>2</td>\n",
       "      <td>98</td>\n",
       "      <td>221.5</td>\n",
       "      <td>15252.25</td>\n",
       "      <td>155.635204</td>\n",
       "    </tr>\n",
       "  </tbody>\n",
       "</table>\n",
       "</div>"
      ],
      "text/plain": [
       "   class  CIS    NIS       RMSE         CHI\n",
       "0      1  270  192.5    6006.25   22.245370\n",
       "1      4   47  238.0   36481.00  776.191489\n",
       "2      0  507  125.0  145924.00  287.818540\n",
       "3      3   78  223.0   21025.00  269.551282\n",
       "4      2   98  221.5   15252.25  155.635204"
      ]
     },
     "execution_count": 3,
     "metadata": {},
     "output_type": "execute_result"
    }
   ],
   "source": [
    "tmp_df"
   ]
  },
  {
   "cell_type": "code",
   "execution_count": 13,
   "metadata": {},
   "outputs": [
    {
     "data": {
      "image/png": "[encoded data removed]",
      "text/plain": [
       "<matplotlib.figure.Figure at 0x108462b70>"
      ]
     },
     "metadata": {},
     "output_type": "display_data"
    }
   ],
   "source": [
    "import numpy as np\n",
    "from basic_units import cm, inch\n",
    "import matplotlib.pyplot as plt\n",
    "\n",
    "pr=3\n",
    "N = len(tmp_df[\"class\"].unique())\n",
    "real_list = list()\n",
    "real_order = list()\n",
    "fig, ax = plt.subplots()\n",
    "width_delta = 0.35         # the width of the bars\n",
    "ind = np.arange(N)    # the x locations for the groups\n",
    "real_colors = {\"NIS\":\"b\",\"CIS\":\"r\",\"f\":\"g\",\"m\":\"b\"}\n",
    "class_order = tmp_df.sort_values(by=\"class\", ascending=True)[\"class\"].values\n",
    "width = 0 \n",
    "\n",
    "cur_values = tmp_df.sort_values(by=\"class\", ascending=True)[\"CIS\"].values\n",
    "cur_p = ax.bar(ind + width, cur_values, width_delta, color=real_colors[\"CIS\"], bottom=0*cm)\n",
    "real_list.append(cur_p)\n",
    "real_order.append(\"CIS\")\n",
    "width += width_delta\n",
    "cur_values = tmp_df.sort_values(by=\"class\", ascending=True)[\"NIS\"].values\n",
    "cur_p = ax.bar(ind + width, cur_values, width_delta, color=real_colors[\"NIS\"], bottom=0*cm)\n",
    "real_list.append(cur_p)\n",
    "real_order.append(\"NIS\")\n",
    "width += width_delta\n",
    "\n",
    "ax.set_title('Counts by class and \"if real\" for Privacy {pr}'.format(pr=pr))\n",
    "ax.set_xticks(ind + width / 2)\n",
    "ax.set_ylabel(\"Number Instances\")\n",
    "ax.set_xticklabels(class_order, rotation = 45, ha=\"right\")\n",
    "ax.legend((p[0] for p in real_list), tuple(real_order))\n",
    "ax.yaxis.set_units(inch)\n",
    "ax.autoscale_view()\n",
    "#plt.savefig(\"/Users/juanzinser/Documents/plots/reconstruction_simulated_{pr}\".format(pr=pr))\n",
    "plt.show()"
   ]
  }
 ],
 "metadata": {
  "kernelspec": {
   "display_name": "Python 3",
   "language": "python",
   "name": "python3"
  },
  "language_info": {
   "codemirror_mode": {
    "name": "ipython",
    "version": 3
   },
   "file_extension": ".py",
   "mimetype": "text/x-python",
   "name": "python",
   "nbconvert_exporter": "python",
   "pygments_lexer": "ipython3",
   "version": "3.6.2"
  }
 },
 "nbformat": 4,
 "nbformat_minor": 2
}
